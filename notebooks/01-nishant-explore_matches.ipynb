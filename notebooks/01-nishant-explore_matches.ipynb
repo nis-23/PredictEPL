{
 "cells": [
  {
   "cell_type": "markdown",
   "metadata": {},
   "source": [
    "## Setup"
   ]
  },
  {
   "cell_type": "code",
   "execution_count": 1,
   "metadata": {},
   "outputs": [
    {
     "data": {
      "text/html": [
       "<div>\n",
       "<style scoped>\n",
       "    .dataframe tbody tr th:only-of-type {\n",
       "        vertical-align: middle;\n",
       "    }\n",
       "\n",
       "    .dataframe tbody tr th {\n",
       "        vertical-align: top;\n",
       "    }\n",
       "\n",
       "    .dataframe thead th {\n",
       "        text-align: right;\n",
       "    }\n",
       "</style>\n",
       "<table border=\"1\" class=\"dataframe\">\n",
       "  <thead>\n",
       "    <tr style=\"text-align: right;\">\n",
       "      <th></th>\n",
       "      <th>Unnamed: 0</th>\n",
       "      <th>date</th>\n",
       "      <th>time</th>\n",
       "      <th>comp</th>\n",
       "      <th>round</th>\n",
       "      <th>day</th>\n",
       "      <th>venue</th>\n",
       "      <th>result</th>\n",
       "      <th>gf</th>\n",
       "      <th>ga</th>\n",
       "      <th>...</th>\n",
       "      <th>match report</th>\n",
       "      <th>notes</th>\n",
       "      <th>sh</th>\n",
       "      <th>sot</th>\n",
       "      <th>dist</th>\n",
       "      <th>fk</th>\n",
       "      <th>pk</th>\n",
       "      <th>pkatt</th>\n",
       "      <th>season</th>\n",
       "      <th>team</th>\n",
       "    </tr>\n",
       "    <tr>\n",
       "      <th>Unnamed: 0</th>\n",
       "      <th></th>\n",
       "      <th></th>\n",
       "      <th></th>\n",
       "      <th></th>\n",
       "      <th></th>\n",
       "      <th></th>\n",
       "      <th></th>\n",
       "      <th></th>\n",
       "      <th></th>\n",
       "      <th></th>\n",
       "      <th></th>\n",
       "      <th></th>\n",
       "      <th></th>\n",
       "      <th></th>\n",
       "      <th></th>\n",
       "      <th></th>\n",
       "      <th></th>\n",
       "      <th></th>\n",
       "      <th></th>\n",
       "      <th></th>\n",
       "      <th></th>\n",
       "    </tr>\n",
       "  </thead>\n",
       "  <tbody>\n",
       "    <tr>\n",
       "      <th>1</th>\n",
       "      <td>1</td>\n",
       "      <td>2021-08-15</td>\n",
       "      <td>16:30</td>\n",
       "      <td>Premier League</td>\n",
       "      <td>Matchweek 1</td>\n",
       "      <td>Sun</td>\n",
       "      <td>Away</td>\n",
       "      <td>L</td>\n",
       "      <td>0.0</td>\n",
       "      <td>1.0</td>\n",
       "      <td>...</td>\n",
       "      <td>Match Report</td>\n",
       "      <td>NaN</td>\n",
       "      <td>18.0</td>\n",
       "      <td>4.0</td>\n",
       "      <td>16.9</td>\n",
       "      <td>1.0</td>\n",
       "      <td>0.0</td>\n",
       "      <td>0.0</td>\n",
       "      <td>2022</td>\n",
       "      <td>Manchester City</td>\n",
       "    </tr>\n",
       "    <tr>\n",
       "      <th>2</th>\n",
       "      <td>2</td>\n",
       "      <td>2021-08-21</td>\n",
       "      <td>15:00</td>\n",
       "      <td>Premier League</td>\n",
       "      <td>Matchweek 2</td>\n",
       "      <td>Sat</td>\n",
       "      <td>Home</td>\n",
       "      <td>W</td>\n",
       "      <td>5.0</td>\n",
       "      <td>0.0</td>\n",
       "      <td>...</td>\n",
       "      <td>Match Report</td>\n",
       "      <td>NaN</td>\n",
       "      <td>16.0</td>\n",
       "      <td>4.0</td>\n",
       "      <td>17.3</td>\n",
       "      <td>1.0</td>\n",
       "      <td>0.0</td>\n",
       "      <td>0.0</td>\n",
       "      <td>2022</td>\n",
       "      <td>Manchester City</td>\n",
       "    </tr>\n",
       "    <tr>\n",
       "      <th>3</th>\n",
       "      <td>3</td>\n",
       "      <td>2021-08-28</td>\n",
       "      <td>12:30</td>\n",
       "      <td>Premier League</td>\n",
       "      <td>Matchweek 3</td>\n",
       "      <td>Sat</td>\n",
       "      <td>Home</td>\n",
       "      <td>W</td>\n",
       "      <td>5.0</td>\n",
       "      <td>0.0</td>\n",
       "      <td>...</td>\n",
       "      <td>Match Report</td>\n",
       "      <td>NaN</td>\n",
       "      <td>25.0</td>\n",
       "      <td>10.0</td>\n",
       "      <td>14.3</td>\n",
       "      <td>0.0</td>\n",
       "      <td>0.0</td>\n",
       "      <td>0.0</td>\n",
       "      <td>2022</td>\n",
       "      <td>Manchester City</td>\n",
       "    </tr>\n",
       "    <tr>\n",
       "      <th>4</th>\n",
       "      <td>4</td>\n",
       "      <td>2021-09-11</td>\n",
       "      <td>15:00</td>\n",
       "      <td>Premier League</td>\n",
       "      <td>Matchweek 4</td>\n",
       "      <td>Sat</td>\n",
       "      <td>Away</td>\n",
       "      <td>W</td>\n",
       "      <td>1.0</td>\n",
       "      <td>0.0</td>\n",
       "      <td>...</td>\n",
       "      <td>Match Report</td>\n",
       "      <td>NaN</td>\n",
       "      <td>25.0</td>\n",
       "      <td>8.0</td>\n",
       "      <td>14.0</td>\n",
       "      <td>0.0</td>\n",
       "      <td>0.0</td>\n",
       "      <td>0.0</td>\n",
       "      <td>2022</td>\n",
       "      <td>Manchester City</td>\n",
       "    </tr>\n",
       "    <tr>\n",
       "      <th>6</th>\n",
       "      <td>6</td>\n",
       "      <td>2021-09-18</td>\n",
       "      <td>15:00</td>\n",
       "      <td>Premier League</td>\n",
       "      <td>Matchweek 5</td>\n",
       "      <td>Sat</td>\n",
       "      <td>Home</td>\n",
       "      <td>D</td>\n",
       "      <td>0.0</td>\n",
       "      <td>0.0</td>\n",
       "      <td>...</td>\n",
       "      <td>Match Report</td>\n",
       "      <td>NaN</td>\n",
       "      <td>16.0</td>\n",
       "      <td>1.0</td>\n",
       "      <td>15.7</td>\n",
       "      <td>1.0</td>\n",
       "      <td>0.0</td>\n",
       "      <td>0.0</td>\n",
       "      <td>2022</td>\n",
       "      <td>Manchester City</td>\n",
       "    </tr>\n",
       "  </tbody>\n",
       "</table>\n",
       "<p>5 rows × 28 columns</p>\n",
       "</div>"
      ],
      "text/plain": [
       "            Unnamed: 0        date   time            comp        round  day  \\\n",
       "Unnamed: 0                                                                    \n",
       "1                    1  2021-08-15  16:30  Premier League  Matchweek 1  Sun   \n",
       "2                    2  2021-08-21  15:00  Premier League  Matchweek 2  Sat   \n",
       "3                    3  2021-08-28  12:30  Premier League  Matchweek 3  Sat   \n",
       "4                    4  2021-09-11  15:00  Premier League  Matchweek 4  Sat   \n",
       "6                    6  2021-09-18  15:00  Premier League  Matchweek 5  Sat   \n",
       "\n",
       "           venue result   gf   ga  ...  match report  notes    sh   sot  dist  \\\n",
       "Unnamed: 0                         ...                                          \n",
       "1           Away      L  0.0  1.0  ...  Match Report    NaN  18.0   4.0  16.9   \n",
       "2           Home      W  5.0  0.0  ...  Match Report    NaN  16.0   4.0  17.3   \n",
       "3           Home      W  5.0  0.0  ...  Match Report    NaN  25.0  10.0  14.3   \n",
       "4           Away      W  1.0  0.0  ...  Match Report    NaN  25.0   8.0  14.0   \n",
       "6           Home      D  0.0  0.0  ...  Match Report    NaN  16.0   1.0  15.7   \n",
       "\n",
       "             fk   pk pkatt season             team  \n",
       "Unnamed: 0                                          \n",
       "1           1.0  0.0   0.0   2022  Manchester City  \n",
       "2           1.0  0.0   0.0   2022  Manchester City  \n",
       "3           0.0  0.0   0.0   2022  Manchester City  \n",
       "4           0.0  0.0   0.0   2022  Manchester City  \n",
       "6           1.0  0.0   0.0   2022  Manchester City  \n",
       "\n",
       "[5 rows x 28 columns]"
      ]
     },
     "execution_count": 1,
     "metadata": {},
     "output_type": "execute_result"
    }
   ],
   "source": [
    "# Basic Setup\n",
    "\n",
    "import pandas as pd\n",
    "import numpy as np \n",
    "import sklearn \n",
    "import os\n",
    "\n",
    "\"\"\"\n",
    "This data is from the 2020-2021 and 2021-2022 seasons.\n",
    "The data was scraped partway through the 2021-2022 season, so we won't have the complete match history for the season.\n",
    "\n",
    "\"\"\"\n",
    "\n",
    "matches = pd.read_csv('../data/raw/matches.csv')\n",
    "\n",
    "matches.index = matches[matches.columns[0]]\n",
    "matches.head()"
   ]
  },
  {
   "cell_type": "markdown",
   "metadata": {},
   "source": [
    "## Exploration"
   ]
  },
  {
   "cell_type": "code",
   "execution_count": 2,
   "metadata": {},
   "outputs": [
    {
     "data": {
      "text/plain": [
       "L    548\n",
       "W    526\n",
       "D    315\n",
       "Name: result, dtype: int64"
      ]
     },
     "execution_count": 2,
     "metadata": {},
     "output_type": "execute_result"
    }
   ],
   "source": [
    "# Inspect matches \n",
    "\n",
    "# matches.info()\n",
    "# matches.team.value_counts()\n",
    "# matches.comp.value_counts()\n",
    "# matches['match report'].value_counts()\n",
    "# matches.isna().sum()/len(matches.index)*100\n",
    "matches.dtypes\n",
    "matches.result.value_counts()"
   ]
  },
  {
   "cell_type": "markdown",
   "metadata": {},
   "source": [
    "#### Initial Notes\n",
    "\n",
    "* The notes columns is completely blank. To be dropped.\n",
    "* The attendance column is half empty. Not reliable to be used as a predictor. \n",
    "* Upon inspecting the columns, it is noted: \n",
    "\n",
    "    1. The columns comp, & match report only hold one value i.e 'premier league' and 'match report'.  These values hold no   \n",
    "    bearing on the outcome of a football match and hence are to be removed. \n",
    "\n",
    "* Convert date & time columns to the appropriate datatype. \n",
    "* Handle categorical columns by converting them to a numerical type\n",
    "\n",
    " P.S: This is just an initial screening. We might drop more columns as we decide what columns to be used as predictors. \n"
   ]
  },
  {
   "cell_type": "markdown",
   "metadata": {},
   "source": [
    "    We have data for 2 seasons. There are 20 teams and each team plays 38 matches in a season. \n",
    "    Therefore, we should have data for 2*20*38 = 1520 matches.\n",
    "\n",
    "    At the end of each seaoson, 3 teams are relegated and 3 teams are promoted, so we'll have:\n",
    "\n",
    "    - 6 teams with 38 matches each\n",
    "    - 17 teams with 76 matches each\n",
    "\n",
    "    Let's now inspect the following things:\n",
    "\n",
    "    1. How many matches we have the data for?\n",
    "    2. How many rows are missing due to the data being scraped partway through the season?\n",
    "    3. Are there any teams that are missing more data than we'd expect?"
   ]
  },
  {
   "cell_type": "code",
   "execution_count": 3,
   "metadata": {},
   "outputs": [],
   "source": [
    "# Since each row in the dataframe corresponds to on match, To determine how many matches we have data for, we just need to find the length\n",
    "# of the dataframe\n",
    "\n",
    "num_matches = len(matches.index)\n",
    "num_matches\n",
    "\n",
    "# Number of missing rows. \n",
    "\n",
    "matches['date'] = pd.to_datetime(matches.date)\n",
    "# matches.date.min()\n"
   ]
  },
  {
   "cell_type": "code",
   "execution_count": 4,
   "metadata": {},
   "outputs": [
    {
     "data": {
      "text/plain": [
       "Southampton                 72\n",
       "Brighton and Hove Albion    72\n",
       "Manchester United           72\n",
       "West Ham United             72\n",
       "Newcastle United            72\n",
       "Burnley                     71\n",
       "Leeds United                71\n",
       "Crystal Palace              71\n",
       "Manchester City             71\n",
       "Wolverhampton Wanderers     71\n",
       "Tottenham Hotspur           71\n",
       "Arsenal                     71\n",
       "Leicester City              70\n",
       "Chelsea                     70\n",
       "Aston Villa                 70\n",
       "Everton                     70\n",
       "Liverpool                   38\n",
       "Fulham                      38\n",
       "West Bromwich Albion        38\n",
       "Sheffield United            38\n",
       "Brentford                   34\n",
       "Watford                     33\n",
       "Norwich City                33\n",
       "Name: team, dtype: int64"
      ]
     },
     "execution_count": 4,
     "metadata": {},
     "output_type": "execute_result"
    }
   ],
   "source": [
    "# Exploring team wise match data \n",
    "\n",
    "team_matches = matches.team.value_counts()\n",
    "team_matches\n"
   ]
  },
  {
   "cell_type": "markdown",
   "metadata": {},
   "source": [
    "#### Observations\n",
    "\n",
    "* We have data for 1389 matches.\n",
    "* We have data missing for 131 matches.\n",
    "* Liverpool has data for 38 matches in our dataset. Since, it wasn't relegated or promoted in the the 2020-2021 season.  \n",
    " There's some match data missing from Liverpool.\n",
    "\n",
    "#### Next Steps \n",
    "\n",
    "Since only about 8% of the data is missing, we will proceed with the analysis with the data that is available. \n"
   ]
  },
  {
   "cell_type": "markdown",
   "metadata": {},
   "source": [
    "# Cleaning & Transformation "
   ]
  },
  {
   "cell_type": "markdown",
   "metadata": {},
   "source": [
    "Acting on the initial notes, we shall be doing the following:\n",
    "\n",
    "1. Dropping columns: 1. notes 2. comp. 3. match report 4. attendance. \n",
    "2. Run one hot encoding on the categorical columns "
   ]
  },
  {
   "cell_type": "code",
   "execution_count": 5,
   "metadata": {},
   "outputs": [],
   "source": [
    "#  Dropping uninformative columns \n",
    "\n",
    "matches.drop(['comp', 'match report', 'attendance', 'notes', 'Unnamed: 0','round'], axis = 1, inplace = True)\n",
    "\n"
   ]
  },
  {
   "cell_type": "code",
   "execution_count": 6,
   "metadata": {},
   "outputs": [
    {
     "data": {
      "text/plain": [
       "1389"
      ]
     },
     "execution_count": 6,
     "metadata": {},
     "output_type": "execute_result"
    }
   ],
   "source": [
    "len(matches.index)"
   ]
  },
  {
   "cell_type": "code",
   "execution_count": 7,
   "metadata": {},
   "outputs": [
    {
     "name": "stderr",
     "output_type": "stream",
     "text": [
      "/var/folders/ql/4dbklqz57h5c3nsx984r5c840000gn/T/ipykernel_3488/1395765472.py:8: FutureWarning: The pandas.datetime class is deprecated and will be removed from pandas in a future version. Import from datetime module instead.\n",
      "  matches['datetime'] = matches.apply(lambda r : pd.datetime.combine(r['date'],r['time']),1)\n"
     ]
    }
   ],
   "source": [
    "# Handling datetime \n",
    "\n",
    "import datetime\n",
    "from datetime import date, time \n",
    "\n",
    "matches['date'] = pd.to_datetime(matches.date).dt.date\n",
    "matches['time'] = pd.to_datetime(matches.time).dt.time\n",
    "matches['datetime'] = matches.apply(lambda r : pd.datetime.combine(r['date'],r['time']),1)\n"
   ]
  },
  {
   "cell_type": "code",
   "execution_count": 17,
   "metadata": {},
   "outputs": [],
   "source": [
    "# Handling Categoricals \n",
    "\n",
    "matches['venue']  =   pd.Categorical(matches.venue, ordered = False)\n",
    "matches['opponent'] = pd.Categorical(matches.opponent, ordered = False)\n",
    "matches['day'] =      pd.Categorical(matches.day, ordered = False)\n",
    "matches['hour'] =     matches.datetime.apply(lambda x: x.hour)\n",
    "matches['formation'] = pd.Categorical(matches.formation, ordered = False)\n",
    "matches['result'] =  pd.Categorical(matches.result, ordered = False)\n",
    "\n",
    "matches.venue = matches.venue.cat.codes\n",
    "matches.opponent = matches.opponent.cat.codes\n",
    "matches.day = matches.day.cat.codes\n",
    "matches.formation = matches.formation.cat.codes\n",
    "matches.result = matches.result.cat.codes\n",
    "\n",
    "\n",
    "\n",
    "# matches['venue'] = matches.venue.cat.codes\n",
    "# matches['opponent'] \n",
    "# Droppping uninformative columns \n",
    "\n",
    "matches.drop(['referee', 'captain'], axis = 1, inplace = True)\n",
    "\n",
    "# Separating all categorical columns \n",
    "\n",
    "matches.hour = matches.hour.astype('int8')\n",
    "matches_cats = matches.select_dtypes(include = 'int8').drop('result', axis = 1)\n",
    "matches_cats[['datetime', 'team']] = matches[['datetime', 'team']]\n",
    "\n",
    "# Creating a copy of matches at this stage \n",
    "\n",
    "matches_cat_transforms = matches"
   ]
  },
  {
   "cell_type": "code",
   "execution_count": 18,
   "metadata": {},
   "outputs": [],
   "source": [
    "matches_backup = matches\n",
    "\n",
    "group = matches.groupby('team')\n",
    "group = group.get_group('Manchester City')\n",
    "# group = group.sort_values('date')\n",
    "# rolling_stats = group(cols).rolling(3, closed = 'left').mean()\n",
    "# group[new_cols] = rolling_stats\n",
    "# group = group.dropna(subset = new_cols)\n"
   ]
  },
  {
   "cell_type": "code",
   "execution_count": 19,
   "metadata": {},
   "outputs": [],
   "source": [
    "# Adding Rolling Statistics \n",
    "\n",
    "def get_rolling_avg(col, new_cols, group):\n",
    "    \n",
    "    group = group.sort_values('date')\n",
    "    rolling_stats = group[cols].rolling(3, closed = 'left').mean()\n",
    "    group[new_cols] = rolling_stats\n",
    "    group = group.dropna(subset = new_cols)\n",
    "    \n",
    "    return group\n",
    "\n",
    "    \n",
    "cols = [\"gf\",\"ga\",\"sh\",\"sot\",\"dist\",\"fk\",\"pk\",\"pkatt\"]\n",
    "new_cols = [f\"{c}_rolling\" for c in cols ]\n",
    "    "
   ]
  },
  {
   "cell_type": "code",
   "execution_count": 20,
   "metadata": {},
   "outputs": [
    {
     "name": "stderr",
     "output_type": "stream",
     "text": [
      "/var/folders/ql/4dbklqz57h5c3nsx984r5c840000gn/T/ipykernel_59451/3596522911.py:8: SettingWithCopyWarning: \n",
      "A value is trying to be set on a copy of a slice from a DataFrame.\n",
      "Try using .loc[row_indexer,col_indexer] = value instead\n",
      "\n",
      "See the caveats in the documentation: https://pandas.pydata.org/pandas-docs/stable/user_guide/indexing.html#returning-a-view-versus-a-copy\n",
      "  matches_rolling_stats[['datetime','team']] = matches_rolling[['datetime', 'team']]\n",
      "/var/folders/ql/4dbklqz57h5c3nsx984r5c840000gn/T/ipykernel_59451/3596522911.py:8: SettingWithCopyWarning: \n",
      "A value is trying to be set on a copy of a slice from a DataFrame.\n",
      "Try using .loc[row_indexer,col_indexer] = value instead\n",
      "\n",
      "See the caveats in the documentation: https://pandas.pydata.org/pandas-docs/stable/user_guide/indexing.html#returning-a-view-versus-a-copy\n",
      "  matches_rolling_stats[['datetime','team']] = matches_rolling[['datetime', 'team']]\n"
     ]
    }
   ],
   "source": [
    "matches_rolling  = matches.groupby('team').apply(lambda x: get_rolling_avg(cols, new_cols,x))\n",
    "matches_rolling = matches_rolling.droplevel('team')\n",
    "matches_rolling.index = range(matches_rolling.index.shape[0])\n",
    "\n",
    "# Separating out the rolling columns\n",
    "\n",
    "matches_rolling_stats = matches_rolling[new_cols]\n",
    "matches_rolling_stats[['datetime','team']] = matches_rolling[['datetime', 'team']]\n",
    "\n",
    "\n"
   ]
  },
  {
   "cell_type": "code",
   "execution_count": 21,
   "metadata": {},
   "outputs": [],
   "source": [
    "matches_predictors = pd.merge(matches_cats,matches_rolling_stats, how = 'inner', on = ['datetime','team'])\n",
    "matches_predictors.index = matches_predictors[['datetime','team']]"
   ]
  },
  {
   "cell_type": "code",
   "execution_count": 22,
   "metadata": {},
   "outputs": [
    {
     "name": "stderr",
     "output_type": "stream",
     "text": [
      "/var/folders/ql/4dbklqz57h5c3nsx984r5c840000gn/T/ipykernel_59451/3676419324.py:2: SettingWithCopyWarning: \n",
      "A value is trying to be set on a copy of a slice from a DataFrame.\n",
      "Try using .loc[row_indexer,col_indexer] = value instead\n",
      "\n",
      "See the caveats in the documentation: https://pandas.pydata.org/pandas-docs/stable/user_guide/indexing.html#returning-a-view-versus-a-copy\n",
      "  matches_target['target'] = [1 if i  == 2 else 0 for i in matches_target.result.tolist()]\n",
      "/var/folders/ql/4dbklqz57h5c3nsx984r5c840000gn/T/ipykernel_59451/3676419324.py:3: SettingWithCopyWarning: \n",
      "A value is trying to be set on a copy of a slice from a DataFrame\n",
      "\n",
      "See the caveats in the documentation: https://pandas.pydata.org/pandas-docs/stable/user_guide/indexing.html#returning-a-view-versus-a-copy\n",
      "  matches_target.drop('result', axis = 1, inplace = True)\n"
     ]
    }
   ],
   "source": [
    "matches_target = matches[['datetime','team','result']]\n",
    "matches_target['target'] = [1 if i  == 2 else 0 for i in matches_target.result.tolist()]\n",
    "matches_target.drop('result', axis = 1, inplace = True)\n",
    "matches_target.index = matches_target[['datetime','team']]"
   ]
  },
  {
   "cell_type": "code",
   "execution_count": 23,
   "metadata": {},
   "outputs": [],
   "source": [
    "matches_utils = matches[['season', 'datetime', 'team']]\n",
    "matches_utils.index = matches_utils[['datetime','team']]"
   ]
  },
  {
   "cell_type": "code",
   "execution_count": 24,
   "metadata": {},
   "outputs": [],
   "source": [
    "matches_interim = pd.merge(matches_predictors, matches_target, how = 'inner', on = ['datetime','team']).merge(matches_utils, how = 'inner', \n",
    "                            on = ['datetime','team']) \n",
    "\n",
    "# Storing the prepared dataset. \n",
    "\n",
    "import pickle\n",
    "\n",
    "matches_interim.to_pickle('../data/interim/matches_interim.pkl')\n",
    "matches_interim.to_csv('../data/interim/matches_interim.csv')"
   ]
  }
 ],
 "metadata": {
  "kernelspec": {
   "display_name": "DQ-Predict_EPL",
   "language": "python",
   "name": "python3"
  },
  "language_info": {
   "codemirror_mode": {
    "name": "ipython",
    "version": 3
   },
   "file_extension": ".py",
   "mimetype": "text/x-python",
   "name": "python",
   "nbconvert_exporter": "python",
   "pygments_lexer": "ipython3",
   "version": "3.10.12"
  },
  "orig_nbformat": 4
 },
 "nbformat": 4,
 "nbformat_minor": 2
}
